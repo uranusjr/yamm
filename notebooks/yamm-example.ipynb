{
 "cells": [
  {
   "cell_type": "code",
   "execution_count": null,
   "id": "ddf8c374-99f3-4bce-879b-03c263170e7e",
   "metadata": {},
   "outputs": [],
   "source": [
    "from yamm.constructs.trace import Trace\n",
    "from yamm.utils.geo import geofence_from_trace\n",
    "from yamm.maps.nx.readers.osm_readers import read_osm_nxmap\n",
    "from yamm.matchers.lcss.lcss import LCSSMatcher\n",
    "from yamm.utils.plot import plot_geofence, plot_trace, plot_matches, plot_map\n",
    "from yamm import root"
   ]
  },
  {
   "cell_type": "code",
   "execution_count": null,
   "id": "278d868d-1095-427b-a6ef-55db76f9353c",
   "metadata": {},
   "outputs": [],
   "source": [
    "trace = Trace.from_csv(root() / \"resources/traces/sample_trace_1.csv\")"
   ]
  },
  {
   "cell_type": "code",
   "execution_count": null,
   "id": "4e1284f1-ef05-4732-9b20-891c444d5c68",
   "metadata": {},
   "outputs": [],
   "source": [
    "plot_trace(trace)"
   ]
  },
  {
   "cell_type": "code",
   "execution_count": null,
   "id": "d326d0c5-dd55-4c24-9a90-baa81a2c4734",
   "metadata": {},
   "outputs": [],
   "source": [
    "# generate a geofence polygon that surrounds the trace; units are in meters;\n",
    "# this is used to query OSM for a small map that we can match to\n",
    "geofence = geofence_from_trace(trace, padding=1e3)"
   ]
  },
  {
   "cell_type": "code",
   "execution_count": null,
   "id": "592f0620-198a-411f-a936-c2025bea93c2",
   "metadata": {},
   "outputs": [],
   "source": [
    "plot_geofence(geofence)"
   ]
  },
  {
   "cell_type": "code",
   "execution_count": null,
   "id": "1985bda2-8e2e-4217-a1c8-90e91bd5d142",
   "metadata": {},
   "outputs": [],
   "source": [
    "# uses osmnx to pull a networkx map from the OSM database\n",
    "nx_map = read_osm_nxmap(geofence)"
   ]
  },
  {
   "cell_type": "code",
   "execution_count": null,
   "id": "6dd7f2f8-9407-418c-912d-723cf7672624",
   "metadata": {},
   "outputs": [],
   "source": [
    "plot_map(nx_map)"
   ]
  },
  {
   "cell_type": "code",
   "execution_count": null,
   "id": "272e5779-5b3b-4862-9d5e-850866758554",
   "metadata": {},
   "outputs": [],
   "source": [
    "matcher = LCSSMatcher(nx_map)"
   ]
  },
  {
   "cell_type": "code",
   "execution_count": null,
   "id": "5dcdab12-0592-472e-bd7d-b00add9d8533",
   "metadata": {},
   "outputs": [],
   "source": [
    "matches = matcher.match_trace(trace)"
   ]
  },
  {
   "cell_type": "code",
   "execution_count": null,
   "id": "a451dd1a-08f5-4e1f-be8b-6b3f93a94d0e",
   "metadata": {},
   "outputs": [],
   "source": [
    "plot_matches(matches, road_map=nx_map)"
   ]
  },
  {
   "cell_type": "code",
   "execution_count": null,
   "id": "70d10607-71f6-4706-878a-8ab7332f7543",
   "metadata": {},
   "outputs": [],
   "source": []
  }
 ],
 "metadata": {
  "kernelspec": {
   "display_name": "yamm",
   "language": "python",
   "name": "yamm"
  },
  "language_info": {
   "codemirror_mode": {
    "name": "ipython",
    "version": 3
   },
   "file_extension": ".py",
   "mimetype": "text/x-python",
   "name": "python",
   "nbconvert_exporter": "python",
   "pygments_lexer": "ipython3",
   "version": "3.8.13"
  }
 },
 "nbformat": 4,
 "nbformat_minor": 5
}
